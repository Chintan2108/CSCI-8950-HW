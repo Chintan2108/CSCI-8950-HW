{
 "cells": [
  {
   "cell_type": "markdown",
   "id": "6b4c0a02",
   "metadata": {},
   "source": [
    "**Name: Chintan B. Maniyar**\n",
    "<br>**MACHINE LEARNING - CSCI 8950**\n",
    "<br>**Homework-4: Back-propogation Neural Network** <br>\n",
    "<hr>"
   ]
  },
  {
   "cell_type": "markdown",
   "id": "e0101a60",
   "metadata": {},
   "source": [
    "## Dataset Description"
   ]
  },
  {
   "cell_type": "markdown",
   "id": "a4736000",
   "metadata": {},
   "source": [
    "For this homework, I used the *WisconsinBreastCancerDetection* dataset. It contains 9 predictor variables (all encoded) and one target variable which has two classes namely ‘Benign’ and ‘Malignant’, denoted by 2 and 4 respectively. The data was already encoded, however, there were some missing values in one of the predictor variables. Data cleaning was done by dropping the samples (as it was a categorical variable) with any missing values which reduced the sample size from 699 to 683.\n",
    "<hr>"
   ]
  },
  {
   "cell_type": "markdown",
   "id": "75e9b631",
   "metadata": {},
   "source": [
    "## Importing Packages"
   ]
  },
  {
   "cell_type": "code",
   "execution_count": 203,
   "id": "534dc821",
   "metadata": {},
   "outputs": [],
   "source": [
    "# importing packages\n",
    "import pandas as pd\n",
    "import numpy as np\n",
    "from sklearn.model_selection import train_test_split\n",
    "from sklearn.preprocessing import StandardScaler\n",
    "import tensorflow as tf\n",
    "from tensorflow.keras.models import Model\n",
    "from tensorflow.keras.layers import Dense, Input, Dropout\n",
    "from matplotlib import pyplot as plt\n",
    "from sklearn.model_selection import StratifiedKFold\n",
    "from time import time"
   ]
  },
  {
   "cell_type": "markdown",
   "id": "8944ea3c",
   "metadata": {},
   "source": [
    "## Data Preprocessing and Cleaning"
   ]
  },
  {
   "cell_type": "code",
   "execution_count": 4,
   "id": "610acb45",
   "metadata": {},
   "outputs": [
    {
     "data": {
      "text/html": [
       "<div>\n",
       "<style scoped>\n",
       "    .dataframe tbody tr th:only-of-type {\n",
       "        vertical-align: middle;\n",
       "    }\n",
       "\n",
       "    .dataframe tbody tr th {\n",
       "        vertical-align: top;\n",
       "    }\n",
       "\n",
       "    .dataframe thead th {\n",
       "        text-align: right;\n",
       "    }\n",
       "</style>\n",
       "<table border=\"1\" class=\"dataframe\">\n",
       "  <thead>\n",
       "    <tr style=\"text-align: right;\">\n",
       "      <th></th>\n",
       "      <th>Clump_Thickness</th>\n",
       "      <th>Cell_Size_Uni</th>\n",
       "      <th>Cell_Shape_Uni</th>\n",
       "      <th>Marginal_Adhesion</th>\n",
       "      <th>Single_Epithelial_Cell_Size</th>\n",
       "      <th>Bare_Nuclei</th>\n",
       "      <th>Bland_Chromatin</th>\n",
       "      <th>Normal_Nucleoi</th>\n",
       "      <th>Mitoses</th>\n",
       "      <th>Class</th>\n",
       "    </tr>\n",
       "  </thead>\n",
       "  <tbody>\n",
       "    <tr>\n",
       "      <th>1000025</th>\n",
       "      <td>5</td>\n",
       "      <td>1</td>\n",
       "      <td>1</td>\n",
       "      <td>1</td>\n",
       "      <td>2</td>\n",
       "      <td>1</td>\n",
       "      <td>3</td>\n",
       "      <td>1</td>\n",
       "      <td>1</td>\n",
       "      <td>2</td>\n",
       "    </tr>\n",
       "    <tr>\n",
       "      <th>1002945</th>\n",
       "      <td>5</td>\n",
       "      <td>4</td>\n",
       "      <td>4</td>\n",
       "      <td>5</td>\n",
       "      <td>7</td>\n",
       "      <td>10</td>\n",
       "      <td>3</td>\n",
       "      <td>2</td>\n",
       "      <td>1</td>\n",
       "      <td>2</td>\n",
       "    </tr>\n",
       "    <tr>\n",
       "      <th>1015425</th>\n",
       "      <td>3</td>\n",
       "      <td>1</td>\n",
       "      <td>1</td>\n",
       "      <td>1</td>\n",
       "      <td>2</td>\n",
       "      <td>2</td>\n",
       "      <td>3</td>\n",
       "      <td>1</td>\n",
       "      <td>1</td>\n",
       "      <td>2</td>\n",
       "    </tr>\n",
       "    <tr>\n",
       "      <th>1016277</th>\n",
       "      <td>6</td>\n",
       "      <td>8</td>\n",
       "      <td>8</td>\n",
       "      <td>1</td>\n",
       "      <td>3</td>\n",
       "      <td>4</td>\n",
       "      <td>3</td>\n",
       "      <td>7</td>\n",
       "      <td>1</td>\n",
       "      <td>2</td>\n",
       "    </tr>\n",
       "    <tr>\n",
       "      <th>1017023</th>\n",
       "      <td>4</td>\n",
       "      <td>1</td>\n",
       "      <td>1</td>\n",
       "      <td>3</td>\n",
       "      <td>2</td>\n",
       "      <td>1</td>\n",
       "      <td>3</td>\n",
       "      <td>1</td>\n",
       "      <td>1</td>\n",
       "      <td>2</td>\n",
       "    </tr>\n",
       "  </tbody>\n",
       "</table>\n",
       "</div>"
      ],
      "text/plain": [
       "         Clump_Thickness  Cell_Size_Uni  Cell_Shape_Uni  Marginal_Adhesion  \\\n",
       "1000025                5              1               1                  1   \n",
       "1002945                5              4               4                  5   \n",
       "1015425                3              1               1                  1   \n",
       "1016277                6              8               8                  1   \n",
       "1017023                4              1               1                  3   \n",
       "\n",
       "         Single_Epithelial_Cell_Size Bare_Nuclei  Bland_Chromatin  \\\n",
       "1000025                            2           1                3   \n",
       "1002945                            7          10                3   \n",
       "1015425                            2           2                3   \n",
       "1016277                            3           4                3   \n",
       "1017023                            2           1                3   \n",
       "\n",
       "         Normal_Nucleoi  Mitoses  Class  \n",
       "1000025               1        1      2  \n",
       "1002945               2        1      2  \n",
       "1015425               1        1      2  \n",
       "1016277               7        1      2  \n",
       "1017023               1        1      2  "
      ]
     },
     "execution_count": 4,
     "metadata": {},
     "output_type": "execute_result"
    }
   ],
   "source": [
    "# read data\n",
    "\n",
    "features = ['Clump_Thickness', 'Cell_Size_Uni', 'Cell_Shape_Uni', 'Marginal_Adhesion',\n",
    " 'Single_Epithelial_Cell_Size', 'Bare_Nuclei', 'Bland_Chromatin', 'Normal_Nucleoi', 'Mitoses', 'Class']\n",
    "bcd = pd.read_csv('./breast_cancer/breast-cancer-wisconsin.data', names=features)\n",
    "bcd.head()"
   ]
  },
  {
   "cell_type": "code",
   "execution_count": 5,
   "id": "7ac53e95",
   "metadata": {},
   "outputs": [
    {
     "data": {
      "text/html": [
       "<div>\n",
       "<style scoped>\n",
       "    .dataframe tbody tr th:only-of-type {\n",
       "        vertical-align: middle;\n",
       "    }\n",
       "\n",
       "    .dataframe tbody tr th {\n",
       "        vertical-align: top;\n",
       "    }\n",
       "\n",
       "    .dataframe thead th {\n",
       "        text-align: right;\n",
       "    }\n",
       "</style>\n",
       "<table border=\"1\" class=\"dataframe\">\n",
       "  <thead>\n",
       "    <tr style=\"text-align: right;\">\n",
       "      <th></th>\n",
       "      <th>Clump_Thickness</th>\n",
       "      <th>Cell_Size_Uni</th>\n",
       "      <th>Cell_Shape_Uni</th>\n",
       "      <th>Marginal_Adhesion</th>\n",
       "      <th>Single_Epithelial_Cell_Size</th>\n",
       "      <th>Bland_Chromatin</th>\n",
       "      <th>Normal_Nucleoi</th>\n",
       "      <th>Mitoses</th>\n",
       "      <th>Class</th>\n",
       "    </tr>\n",
       "  </thead>\n",
       "  <tbody>\n",
       "    <tr>\n",
       "      <th>count</th>\n",
       "      <td>699.000000</td>\n",
       "      <td>699.000000</td>\n",
       "      <td>699.000000</td>\n",
       "      <td>699.000000</td>\n",
       "      <td>699.000000</td>\n",
       "      <td>699.000000</td>\n",
       "      <td>699.000000</td>\n",
       "      <td>699.000000</td>\n",
       "      <td>699.000000</td>\n",
       "    </tr>\n",
       "    <tr>\n",
       "      <th>mean</th>\n",
       "      <td>4.417740</td>\n",
       "      <td>3.134478</td>\n",
       "      <td>3.207439</td>\n",
       "      <td>2.806867</td>\n",
       "      <td>3.216023</td>\n",
       "      <td>3.437768</td>\n",
       "      <td>2.866953</td>\n",
       "      <td>1.589413</td>\n",
       "      <td>2.689557</td>\n",
       "    </tr>\n",
       "    <tr>\n",
       "      <th>std</th>\n",
       "      <td>2.815741</td>\n",
       "      <td>3.051459</td>\n",
       "      <td>2.971913</td>\n",
       "      <td>2.855379</td>\n",
       "      <td>2.214300</td>\n",
       "      <td>2.438364</td>\n",
       "      <td>3.053634</td>\n",
       "      <td>1.715078</td>\n",
       "      <td>0.951273</td>\n",
       "    </tr>\n",
       "    <tr>\n",
       "      <th>min</th>\n",
       "      <td>1.000000</td>\n",
       "      <td>1.000000</td>\n",
       "      <td>1.000000</td>\n",
       "      <td>1.000000</td>\n",
       "      <td>1.000000</td>\n",
       "      <td>1.000000</td>\n",
       "      <td>1.000000</td>\n",
       "      <td>1.000000</td>\n",
       "      <td>2.000000</td>\n",
       "    </tr>\n",
       "    <tr>\n",
       "      <th>25%</th>\n",
       "      <td>2.000000</td>\n",
       "      <td>1.000000</td>\n",
       "      <td>1.000000</td>\n",
       "      <td>1.000000</td>\n",
       "      <td>2.000000</td>\n",
       "      <td>2.000000</td>\n",
       "      <td>1.000000</td>\n",
       "      <td>1.000000</td>\n",
       "      <td>2.000000</td>\n",
       "    </tr>\n",
       "    <tr>\n",
       "      <th>50%</th>\n",
       "      <td>4.000000</td>\n",
       "      <td>1.000000</td>\n",
       "      <td>1.000000</td>\n",
       "      <td>1.000000</td>\n",
       "      <td>2.000000</td>\n",
       "      <td>3.000000</td>\n",
       "      <td>1.000000</td>\n",
       "      <td>1.000000</td>\n",
       "      <td>2.000000</td>\n",
       "    </tr>\n",
       "    <tr>\n",
       "      <th>75%</th>\n",
       "      <td>6.000000</td>\n",
       "      <td>5.000000</td>\n",
       "      <td>5.000000</td>\n",
       "      <td>4.000000</td>\n",
       "      <td>4.000000</td>\n",
       "      <td>5.000000</td>\n",
       "      <td>4.000000</td>\n",
       "      <td>1.000000</td>\n",
       "      <td>4.000000</td>\n",
       "    </tr>\n",
       "    <tr>\n",
       "      <th>max</th>\n",
       "      <td>10.000000</td>\n",
       "      <td>10.000000</td>\n",
       "      <td>10.000000</td>\n",
       "      <td>10.000000</td>\n",
       "      <td>10.000000</td>\n",
       "      <td>10.000000</td>\n",
       "      <td>10.000000</td>\n",
       "      <td>10.000000</td>\n",
       "      <td>4.000000</td>\n",
       "    </tr>\n",
       "  </tbody>\n",
       "</table>\n",
       "</div>"
      ],
      "text/plain": [
       "       Clump_Thickness  Cell_Size_Uni  Cell_Shape_Uni  Marginal_Adhesion  \\\n",
       "count       699.000000     699.000000      699.000000         699.000000   \n",
       "mean          4.417740       3.134478        3.207439           2.806867   \n",
       "std           2.815741       3.051459        2.971913           2.855379   \n",
       "min           1.000000       1.000000        1.000000           1.000000   \n",
       "25%           2.000000       1.000000        1.000000           1.000000   \n",
       "50%           4.000000       1.000000        1.000000           1.000000   \n",
       "75%           6.000000       5.000000        5.000000           4.000000   \n",
       "max          10.000000      10.000000       10.000000          10.000000   \n",
       "\n",
       "       Single_Epithelial_Cell_Size  Bland_Chromatin  Normal_Nucleoi  \\\n",
       "count                   699.000000       699.000000      699.000000   \n",
       "mean                      3.216023         3.437768        2.866953   \n",
       "std                       2.214300         2.438364        3.053634   \n",
       "min                       1.000000         1.000000        1.000000   \n",
       "25%                       2.000000         2.000000        1.000000   \n",
       "50%                       2.000000         3.000000        1.000000   \n",
       "75%                       4.000000         5.000000        4.000000   \n",
       "max                      10.000000        10.000000       10.000000   \n",
       "\n",
       "          Mitoses       Class  \n",
       "count  699.000000  699.000000  \n",
       "mean     1.589413    2.689557  \n",
       "std      1.715078    0.951273  \n",
       "min      1.000000    2.000000  \n",
       "25%      1.000000    2.000000  \n",
       "50%      1.000000    2.000000  \n",
       "75%      1.000000    4.000000  \n",
       "max     10.000000    4.000000  "
      ]
     },
     "execution_count": 5,
     "metadata": {},
     "output_type": "execute_result"
    }
   ],
   "source": [
    "bcd.describe()"
   ]
  },
  {
   "cell_type": "code",
   "execution_count": 8,
   "id": "7b6b207b",
   "metadata": {
    "scrolled": true
   },
   "outputs": [
    {
     "data": {
      "text/html": [
       "<div>\n",
       "<style scoped>\n",
       "    .dataframe tbody tr th:only-of-type {\n",
       "        vertical-align: middle;\n",
       "    }\n",
       "\n",
       "    .dataframe tbody tr th {\n",
       "        vertical-align: top;\n",
       "    }\n",
       "\n",
       "    .dataframe thead th {\n",
       "        text-align: right;\n",
       "    }\n",
       "</style>\n",
       "<table border=\"1\" class=\"dataframe\">\n",
       "  <thead>\n",
       "    <tr style=\"text-align: right;\">\n",
       "      <th></th>\n",
       "      <th>Clump_Thickness</th>\n",
       "      <th>Cell_Size_Uni</th>\n",
       "      <th>Cell_Shape_Uni</th>\n",
       "      <th>Marginal_Adhesion</th>\n",
       "      <th>Single_Epithelial_Cell_Size</th>\n",
       "      <th>Bland_Chromatin</th>\n",
       "      <th>Normal_Nucleoi</th>\n",
       "      <th>Mitoses</th>\n",
       "      <th>Class</th>\n",
       "    </tr>\n",
       "  </thead>\n",
       "  <tbody>\n",
       "    <tr>\n",
       "      <th>count</th>\n",
       "      <td>683.000000</td>\n",
       "      <td>683.000000</td>\n",
       "      <td>683.000000</td>\n",
       "      <td>683.000000</td>\n",
       "      <td>683.000000</td>\n",
       "      <td>683.000000</td>\n",
       "      <td>683.000000</td>\n",
       "      <td>683.000000</td>\n",
       "      <td>683.000000</td>\n",
       "    </tr>\n",
       "    <tr>\n",
       "      <th>mean</th>\n",
       "      <td>4.442167</td>\n",
       "      <td>3.150805</td>\n",
       "      <td>3.215227</td>\n",
       "      <td>2.830161</td>\n",
       "      <td>3.234261</td>\n",
       "      <td>3.445095</td>\n",
       "      <td>2.869693</td>\n",
       "      <td>1.603221</td>\n",
       "      <td>2.699854</td>\n",
       "    </tr>\n",
       "    <tr>\n",
       "      <th>std</th>\n",
       "      <td>2.820761</td>\n",
       "      <td>3.065145</td>\n",
       "      <td>2.988581</td>\n",
       "      <td>2.864562</td>\n",
       "      <td>2.223085</td>\n",
       "      <td>2.449697</td>\n",
       "      <td>3.052666</td>\n",
       "      <td>1.732674</td>\n",
       "      <td>0.954592</td>\n",
       "    </tr>\n",
       "    <tr>\n",
       "      <th>min</th>\n",
       "      <td>1.000000</td>\n",
       "      <td>1.000000</td>\n",
       "      <td>1.000000</td>\n",
       "      <td>1.000000</td>\n",
       "      <td>1.000000</td>\n",
       "      <td>1.000000</td>\n",
       "      <td>1.000000</td>\n",
       "      <td>1.000000</td>\n",
       "      <td>2.000000</td>\n",
       "    </tr>\n",
       "    <tr>\n",
       "      <th>25%</th>\n",
       "      <td>2.000000</td>\n",
       "      <td>1.000000</td>\n",
       "      <td>1.000000</td>\n",
       "      <td>1.000000</td>\n",
       "      <td>2.000000</td>\n",
       "      <td>2.000000</td>\n",
       "      <td>1.000000</td>\n",
       "      <td>1.000000</td>\n",
       "      <td>2.000000</td>\n",
       "    </tr>\n",
       "    <tr>\n",
       "      <th>50%</th>\n",
       "      <td>4.000000</td>\n",
       "      <td>1.000000</td>\n",
       "      <td>1.000000</td>\n",
       "      <td>1.000000</td>\n",
       "      <td>2.000000</td>\n",
       "      <td>3.000000</td>\n",
       "      <td>1.000000</td>\n",
       "      <td>1.000000</td>\n",
       "      <td>2.000000</td>\n",
       "    </tr>\n",
       "    <tr>\n",
       "      <th>75%</th>\n",
       "      <td>6.000000</td>\n",
       "      <td>5.000000</td>\n",
       "      <td>5.000000</td>\n",
       "      <td>4.000000</td>\n",
       "      <td>4.000000</td>\n",
       "      <td>5.000000</td>\n",
       "      <td>4.000000</td>\n",
       "      <td>1.000000</td>\n",
       "      <td>4.000000</td>\n",
       "    </tr>\n",
       "    <tr>\n",
       "      <th>max</th>\n",
       "      <td>10.000000</td>\n",
       "      <td>10.000000</td>\n",
       "      <td>10.000000</td>\n",
       "      <td>10.000000</td>\n",
       "      <td>10.000000</td>\n",
       "      <td>10.000000</td>\n",
       "      <td>10.000000</td>\n",
       "      <td>10.000000</td>\n",
       "      <td>4.000000</td>\n",
       "    </tr>\n",
       "  </tbody>\n",
       "</table>\n",
       "</div>"
      ],
      "text/plain": [
       "       Clump_Thickness  Cell_Size_Uni  Cell_Shape_Uni  Marginal_Adhesion  \\\n",
       "count       683.000000     683.000000      683.000000         683.000000   \n",
       "mean          4.442167       3.150805        3.215227           2.830161   \n",
       "std           2.820761       3.065145        2.988581           2.864562   \n",
       "min           1.000000       1.000000        1.000000           1.000000   \n",
       "25%           2.000000       1.000000        1.000000           1.000000   \n",
       "50%           4.000000       1.000000        1.000000           1.000000   \n",
       "75%           6.000000       5.000000        5.000000           4.000000   \n",
       "max          10.000000      10.000000       10.000000          10.000000   \n",
       "\n",
       "       Single_Epithelial_Cell_Size  Bland_Chromatin  Normal_Nucleoi  \\\n",
       "count                   683.000000       683.000000      683.000000   \n",
       "mean                      3.234261         3.445095        2.869693   \n",
       "std                       2.223085         2.449697        3.052666   \n",
       "min                       1.000000         1.000000        1.000000   \n",
       "25%                       2.000000         2.000000        1.000000   \n",
       "50%                       2.000000         3.000000        1.000000   \n",
       "75%                       4.000000         5.000000        4.000000   \n",
       "max                      10.000000        10.000000       10.000000   \n",
       "\n",
       "          Mitoses       Class  \n",
       "count  683.000000  683.000000  \n",
       "mean     1.603221    2.699854  \n",
       "std      1.732674    0.954592  \n",
       "min      1.000000    2.000000  \n",
       "25%      1.000000    2.000000  \n",
       "50%      1.000000    2.000000  \n",
       "75%      1.000000    4.000000  \n",
       "max     10.000000    4.000000  "
      ]
     },
     "execution_count": 8,
     "metadata": {},
     "output_type": "execute_result"
    }
   ],
   "source": [
    "# specifying missing values as NaNs\n",
    "bcd['Bare_Nuclei'] = bcd['Bare_Nuclei'].replace('?', np.NaN)\n",
    "\n",
    "# dropping tuples with null values\n",
    "bcd = bcd.dropna()\n",
    "bcd.describe()"
   ]
  },
  {
   "cell_type": "markdown",
   "id": "cb7ee410",
   "metadata": {},
   "source": [
    "## Train-Test Split and Normalization"
   ]
  },
  {
   "cell_type": "code",
   "execution_count": 154,
   "id": "02713f12",
   "metadata": {},
   "outputs": [],
   "source": [
    "X_df = bcd.iloc[:,0:-1]\n",
    "y_df = bcd.iloc[:,-1].map({2:0, 4:1})\n",
    "\n",
    "X = X_df.to_numpy()\n",
    "X = StandardScaler().fit_transform(X)\n",
    "y = y_df.to_numpy()\n",
    "X_train, X_test, y_train, y_test = train_test_split(X, y, test_size=0.2, random_state=42)"
   ]
  },
  {
   "cell_type": "code",
   "execution_count": 155,
   "id": "52645c1b",
   "metadata": {},
   "outputs": [
    {
     "data": {
      "text/plain": [
       "((546, 9), (137, 9), (546,), (137,))"
      ]
     },
     "execution_count": 155,
     "metadata": {},
     "output_type": "execute_result"
    }
   ],
   "source": [
    "X_train.shape, X_test.shape, y_train.shape, y_test.shape"
   ]
  },
  {
   "cell_type": "markdown",
   "id": "60b90349",
   "metadata": {},
   "source": [
    "## Building the Model"
   ]
  },
  {
   "cell_type": "code",
   "execution_count": 206,
   "id": "e27e3176",
   "metadata": {},
   "outputs": [],
   "source": [
    "def buildModel(features_nums, hidden_units):\n",
    "    input = Input(shape=(features_nums), name='input_layer')\n",
    "    x = Dense(hidden_units, activation='relu', name='hidden_layer')(input)\n",
    "    output = Dense(1, activation='sigmoid', name='output_layer')(x)\n",
    "    \n",
    "    return Model(inputs=input, outputs=output)"
   ]
  },
  {
   "cell_type": "code",
   "execution_count": 209,
   "id": "e01211e4",
   "metadata": {},
   "outputs": [],
   "source": [
    "def createModel(input_nums, hidden_nums):\n",
    "    model = buildModel(input_nums, hidden_nums)\n",
    "    model.compile(loss='binary_crossentropy', optimizer='sgd', metrics=['accuracy'])\n",
    "    return model"
   ]
  },
  {
   "cell_type": "code",
   "execution_count": 198,
   "id": "3a78875f",
   "metadata": {},
   "outputs": [
    {
     "name": "stdout",
     "output_type": "stream",
     "text": [
      "Model: \"model_15\"\n",
      "_________________________________________________________________\n",
      "Layer (type)                 Output Shape              Param #   \n",
      "=================================================================\n",
      "input_layer (InputLayer)     [(None, 9)]               0         \n",
      "_________________________________________________________________\n",
      "hidden_layer (Dense)         (None, 16)                160       \n",
      "_________________________________________________________________\n",
      "output_layer (Dense)         (None, 1)                 17        \n",
      "=================================================================\n",
      "Total params: 177\n",
      "Trainable params: 177\n",
      "Non-trainable params: 0\n",
      "_________________________________________________________________\n"
     ]
    }
   ],
   "source": [
    "model.summary()"
   ]
  },
  {
   "cell_type": "markdown",
   "id": "764d3013",
   "metadata": {},
   "source": [
    "## Training Model"
   ]
  },
  {
   "cell_type": "code",
   "execution_count": 187,
   "id": "87495554",
   "metadata": {},
   "outputs": [
    {
     "name": "stdout",
     "output_type": "stream",
     "text": [
      "Train on 436 samples, validate on 110 samples\n",
      "Epoch 1/10\n",
      "436/436 [==============================] - 0s 715us/sample - loss: 0.6573 - acc: 0.7018 - val_loss: 0.5943 - val_acc: 0.7364\n",
      "Epoch 2/10\n",
      "436/436 [==============================] - 0s 46us/sample - loss: 0.5331 - acc: 0.7775 - val_loss: 0.4894 - val_acc: 0.8273\n",
      "Epoch 3/10\n",
      "436/436 [==============================] - 0s 25us/sample - loss: 0.4454 - acc: 0.8532 - val_loss: 0.4146 - val_acc: 0.8818\n",
      "Epoch 4/10\n",
      "436/436 [==============================] - 0s 25us/sample - loss: 0.3816 - acc: 0.9174 - val_loss: 0.3588 - val_acc: 0.9000\n",
      "Epoch 5/10\n",
      "436/436 [==============================] - 0s 25us/sample - loss: 0.3328 - acc: 0.9472 - val_loss: 0.3161 - val_acc: 0.9273\n",
      "Epoch 6/10\n",
      "436/436 [==============================] - 0s 23us/sample - loss: 0.2951 - acc: 0.9610 - val_loss: 0.2829 - val_acc: 0.9545\n",
      "Epoch 7/10\n",
      "436/436 [==============================] - 0s 25us/sample - loss: 0.2655 - acc: 0.9656 - val_loss: 0.2563 - val_acc: 0.9545\n",
      "Epoch 8/10\n",
      "436/436 [==============================] - 0s 23us/sample - loss: 0.2415 - acc: 0.9702 - val_loss: 0.2346 - val_acc: 0.9545\n",
      "Epoch 9/10\n",
      "436/436 [==============================] - 0s 25us/sample - loss: 0.2218 - acc: 0.9702 - val_loss: 0.2169 - val_acc: 0.9545\n",
      "Epoch 10/10\n",
      "436/436 [==============================] - 0s 25us/sample - loss: 0.2054 - acc: 0.9702 - val_loss: 0.2027 - val_acc: 0.9545\n",
      "Wall time: 973 ms\n"
     ]
    },
    {
     "data": {
      "text/plain": [
       "<tensorflow.python.keras.callbacks.History at 0x227b447dba8>"
      ]
     },
     "execution_count": 187,
     "metadata": {},
     "output_type": "execute_result"
    }
   ],
   "source": [
    "%%time\n",
    "model.fit(X_train, y_train, epochs=10, validation_split=0.2)"
   ]
  },
  {
   "cell_type": "code",
   "execution_count": 222,
   "id": "64da5e2a",
   "metadata": {},
   "outputs": [
    {
     "name": "stdout",
     "output_type": "stream",
     "text": [
      "Wall time: 3.48 s\n"
     ]
    }
   ],
   "source": [
    "%%time\n",
    "\n",
    "history = model.fit(X_train, y_train, epochs=20, batch_size=10, validation_split=0.2, verbose=0)"
   ]
  },
  {
   "cell_type": "code",
   "execution_count": 191,
   "id": "76a2f985",
   "metadata": {},
   "outputs": [
    {
     "data": {
      "text/plain": [
       "dict_keys(['loss', 'acc', 'val_loss', 'val_acc'])"
      ]
     },
     "execution_count": 191,
     "metadata": {},
     "output_type": "execute_result"
    }
   ],
   "source": [
    "history.history.keys()"
   ]
  },
  {
   "cell_type": "code",
   "execution_count": 178,
   "id": "c7129b1f",
   "metadata": {},
   "outputs": [
    {
     "name": "stdout",
     "output_type": "stream",
     "text": [
      "137/137 [==============================] - 0s 612us/sample - loss: 0.0821 - acc: 0.9708\n"
     ]
    },
    {
     "data": {
      "text/plain": [
       "[0.08213309611934815, 0.9708029]"
      ]
     },
     "execution_count": 178,
     "metadata": {},
     "output_type": "execute_result"
    }
   ],
   "source": [
    "model.evaluate(X_test, y_test)"
   ]
  },
  {
   "cell_type": "code",
   "execution_count": 225,
   "id": "8e29d061",
   "metadata": {},
   "outputs": [
    {
     "data": {
      "image/png": "[encoded data removed]",
      "text/plain": [
       "<Figure size 432x288 with 1 Axes>"
      ]
     },
     "metadata": {
      "needs_background": "light"
     },
     "output_type": "display_data"
    }
   ],
   "source": [
    "# summarize history for accuracy\n",
    "plt.plot(history.history['acc'])\n",
    "plt.plot(history.history['val_acc'])\n",
    "plt.title('Accuracy Plot')\n",
    "plt.ylabel('Accuracy')\n",
    "plt.xlabel('epoch')\n",
    "plt.legend(['train', 'val'], loc='lower right')\n",
    "plt.show()"
   ]
  },
  {
   "cell_type": "code",
   "execution_count": 226,
   "id": "c716a6d0",
   "metadata": {},
   "outputs": [
    {
     "data": {
      "image/png": "[encoded data removed]",
      "text/plain": [
       "<Figure size 432x288 with 1 Axes>"
      ]
     },
     "metadata": {
      "needs_background": "light"
     },
     "output_type": "display_data"
    }
   ],
   "source": [
    "# summarize history for loss\n",
    "plt.plot(history.history['loss'])\n",
    "plt.plot(history.history['val_loss'])\n",
    "plt.title('model loss')\n",
    "plt.ylabel('loss')\n",
    "plt.xlabel('epoch')\n",
    "plt.legend(['train', 'val'], loc='upper right')\n",
    "plt.show()"
   ]
  },
  {
   "cell_type": "code",
   "execution_count": 237,
   "id": "72f6673d",
   "metadata": {},
   "outputs": [
    {
     "name": "stdout",
     "output_type": "stream",
     "text": [
      "Hidden Units: 5\n",
      "acc: 92.73\n",
      "acc: 98.18\n",
      "acc: 100.00\n",
      "acc: 94.55\n",
      "acc: 98.18\n",
      "acc: 100.00\n",
      "acc: 90.74\n",
      "acc: 100.00\n",
      "acc: 96.30\n",
      "acc: 98.15\n",
      "Training/CV: 96.88 (+/- 3.08)\n",
      "Testing (best model): 95.62\n",
      "Time: 8.29\n",
      "****************************************************************************\n",
      "Hidden Units: 10\n",
      "acc: 92.73\n",
      "acc: 100.00\n",
      "acc: 98.18\n",
      "acc: 92.73\n",
      "acc: 98.18\n",
      "acc: 100.00\n",
      "acc: 94.44\n",
      "acc: 100.00\n",
      "acc: 96.30\n",
      "acc: 98.15\n",
      "Training/CV: 97.07 (+/- 2.73)\n",
      "Testing (best model): 97.81\n",
      "Time: 7.96\n",
      "****************************************************************************\n",
      "Hidden Units: 15\n",
      "acc: 92.73\n",
      "acc: 96.36\n",
      "acc: 100.00\n",
      "acc: 90.91\n",
      "acc: 98.18\n",
      "acc: 100.00\n",
      "acc: 96.30\n",
      "acc: 100.00\n",
      "acc: 94.44\n",
      "acc: 98.15\n",
      "Training/CV: 96.71 (+/- 3.03)\n",
      "Testing (best model): 98.54\n",
      "Time: 8.17\n",
      "****************************************************************************\n",
      "Hidden Units: 20\n",
      "acc: 92.73\n",
      "acc: 96.36\n",
      "acc: 98.18\n",
      "acc: 90.91\n",
      "acc: 98.18\n",
      "acc: 100.00\n",
      "acc: 94.44\n",
      "acc: 100.00\n",
      "acc: 94.44\n",
      "acc: 98.15\n",
      "Training/CV: 96.34 (+/- 2.94)\n",
      "Testing (best model): 97.08\n",
      "Time: 8.53\n",
      "****************************************************************************\n",
      "Hidden Units: 25\n",
      "acc: 92.73\n",
      "acc: 100.00\n",
      "acc: 98.18\n",
      "acc: 92.73\n",
      "acc: 98.18\n",
      "acc: 98.18\n",
      "acc: 92.59\n",
      "acc: 100.00\n",
      "acc: 94.44\n",
      "acc: 98.15\n",
      "Training/CV: 96.52 (+/- 2.89)\n",
      "Testing (best model): 96.35\n",
      "Time: 8.52\n",
      "****************************************************************************\n",
      "Hidden Units: 30\n",
      "acc: 92.73\n",
      "acc: 100.00\n",
      "acc: 100.00\n",
      "acc: 92.73\n",
      "acc: 98.18\n",
      "acc: 100.00\n",
      "acc: 96.30\n",
      "acc: 100.00\n",
      "acc: 96.30\n",
      "acc: 98.15\n",
      "Training/CV: 97.44 (+/- 2.73)\n",
      "Testing (best model): 96.35\n",
      "Time: 9.13\n",
      "****************************************************************************\n",
      "Hidden Units: 35\n",
      "acc: 92.73\n",
      "acc: 98.18\n",
      "acc: 100.00\n",
      "acc: 90.91\n",
      "acc: 98.18\n",
      "acc: 100.00\n",
      "acc: 96.30\n",
      "acc: 100.00\n",
      "acc: 94.44\n",
      "acc: 98.15\n",
      "Training/CV: 96.89 (+/- 3.06)\n",
      "Testing (best model): 97.08\n",
      "Time: 9.51\n",
      "****************************************************************************\n",
      "Hidden Units: 40\n",
      "acc: 92.73\n",
      "acc: 96.36\n",
      "acc: 100.00\n",
      "acc: 92.73\n",
      "acc: 98.18\n",
      "acc: 100.00\n",
      "acc: 94.44\n",
      "acc: 100.00\n",
      "acc: 94.44\n",
      "acc: 98.15\n",
      "Training/CV: 96.70 (+/- 2.81)\n",
      "Testing (best model): 97.08\n",
      "Time: 9.17\n",
      "****************************************************************************\n"
     ]
    }
   ],
   "source": [
    "# fix random seed for reproducibility\n",
    "seed = 7\n",
    "np.random.seed(seed)\n",
    "\n",
    "X = X_train \n",
    "Y = y_train\n",
    "\n",
    "hidden_units = [5,10,15,20,25,30,35,40]\n",
    "models = []\n",
    "max_times = []\n",
    "results = {}\n",
    "\n",
    "for num_hidden_units in hidden_units:\n",
    "    print('Hidden Units: %d' % num_hidden_units)\n",
    "    # define 10-fold cross validation test harness\n",
    "    kfold = StratifiedKFold(n_splits=10, shuffle=True,random_state=seed) \n",
    "    cvscores = []\n",
    "    times = []\n",
    "    for train, test in kfold.split(X, Y):\n",
    "        model = createModel(X_train.shape[1], num_hidden_units)\n",
    "        models.append(model)\n",
    "\n",
    "        start = time()\n",
    "        model.fit(X[train], Y[train], epochs=20, batch_size=10, verbose=0)\n",
    "        end = time()\n",
    "        times.append(end-start)\n",
    "\n",
    "        scores = model.evaluate(X[test], Y[test], verbose=0)\n",
    "        print(\"%s: %.2f\" % (model.metrics_names[1], scores[1]*100))\n",
    "        cvscores.append(scores[1] * 100)\n",
    "    \n",
    "    best_model = np.array(cvscores).argmax()\n",
    "    max_times.append(max(times))\n",
    "    \n",
    "    print(\"Training/CV: %.2f (+/- %.2f)\" % (np.mean(cvscores), np.std(cvscores)))\n",
    "    print(\"Testing (best model): %.2f\" % (models[-1].evaluate(X_test, y_test, verbose=0)[1]*100))\n",
    "    print(\"Time: %.2f\" % max(times))\n",
    "    print('****************************************************************************')\n",
    "    results[num_hidden_units] = {'cvscores': cvscores, 'times': times, 'cvmean':np.mean(cvscores), 'cvstd':np.std(cvscores)}"
   ]
  },
  {
   "cell_type": "code",
   "execution_count": 218,
   "id": "ca1fd4a2",
   "metadata": {},
   "outputs": [
    {
     "data": {
      "text/plain": [
       "2"
      ]
     },
     "execution_count": 218,
     "metadata": {},
     "output_type": "execute_result"
    }
   ],
   "source": [
    "np.array(cvscores).argmax()"
   ]
  },
  {
   "cell_type": "code",
   "execution_count": 236,
   "id": "07893850",
   "metadata": {},
   "outputs": [
    {
     "data": {
      "text/plain": [
       "[7.220893144607544,\n",
       " 7.141753435134888,\n",
       " 7.240206718444824,\n",
       " 7.274754285812378,\n",
       " 7.834929466247559,\n",
       " 7.199885845184326,\n",
       " 7.443694829940796,\n",
       " 7.4552154541015625,\n",
       " 7.494878053665161,\n",
       " 7.529874801635742]"
      ]
     },
     "execution_count": 236,
     "metadata": {},
     "output_type": "execute_result"
    }
   ],
   "source": [
    "times"
   ]
  },
  {
   "cell_type": "code",
   "execution_count": 240,
   "id": "3a068f6f",
   "metadata": {},
   "outputs": [
    {
     "data": {
      "text/plain": [
       "Text(0, 0.5, 'Training Time (s)')"
      ]
     },
     "execution_count": 240,
     "metadata": {},
     "output_type": "execute_result"
    },
    {
     "data": {
      "image/png": "[encoded data removed]",
      "text/plain": [
       "<Figure size 432x288 with 1 Axes>"
      ]
     },
     "metadata": {
      "needs_background": "light"
     },
     "output_type": "display_data"
    }
   ],
   "source": [
    "plt.plot(max_times)\n",
    "plt.xlabel('Hidden Units')\n",
    "plt.xticks(range(8), ['5','10','15','20','25','30','35','40'])\n",
    "plt.ylabel('Training Time (s)')"
   ]
  },
  {
   "cell_type": "code",
   "execution_count": null,
   "id": "5bb0066e",
   "metadata": {},
   "outputs": [],
   "source": [
    "plt.plot(max_times)\n",
    "plt.xlabel('Hidden Units')\n",
    "plt.xticks(range(8), ['5','10','15','20','25','30','35','40'])\n",
    "plt.ylabel('Time (s)')"
   ]
  }
 ],
 "metadata": {
  "kernelspec": {
   "display_name": "salinity",
   "language": "python",
   "name": "salinity"
  },
  "language_info": {
   "codemirror_mode": {
    "name": "ipython",
    "version": 3
   },
   "file_extension": ".py",
   "mimetype": "text/x-python",
   "name": "python",
   "nbconvert_exporter": "python",
   "pygments_lexer": "ipython3",
   "version": "3.6.13"
  }
 },
 "nbformat": 4,
 "nbformat_minor": 5
}
